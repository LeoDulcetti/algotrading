{
 "cells": [
  {
   "cell_type": "markdown",
   "metadata": {},
   "source": [
    "# Messages"
   ]
  },
  {
   "cell_type": "code",
   "execution_count": 19,
   "metadata": {},
   "outputs": [],
   "source": [
    "import pandas as pd\n",
    "import numpy as np\n",
    "\n",
    "datamessages = pd.read_csv('/Users/constantinwiederin/Documents/IE/Algorithmic Trading/LOBSTER/AAPL_2012-06-21_34200000_57600000_message_10.csv', header=None)"
   ]
  },
  {
   "cell_type": "code",
   "execution_count": 20,
   "metadata": {},
   "outputs": [
    {
     "data": {
      "text/plain": [
       "(400391, 6)"
      ]
     },
     "execution_count": 20,
     "metadata": {},
     "output_type": "execute_result"
    }
   ],
   "source": [
    "datamessages.shape"
   ]
  },
  {
   "cell_type": "code",
   "execution_count": 21,
   "metadata": {},
   "outputs": [],
   "source": [
    "datamessages.columns = ['Time', 'Type', 'OrderID', 'Size', 'Price', 'Direction']"
   ]
  },
  {
   "cell_type": "code",
   "execution_count": 22,
   "metadata": {},
   "outputs": [
    {
     "data": {
      "text/html": [
       "<div>\n",
       "<style scoped>\n",
       "    .dataframe tbody tr th:only-of-type {\n",
       "        vertical-align: middle;\n",
       "    }\n",
       "\n",
       "    .dataframe tbody tr th {\n",
       "        vertical-align: top;\n",
       "    }\n",
       "\n",
       "    .dataframe thead th {\n",
       "        text-align: right;\n",
       "    }\n",
       "</style>\n",
       "<table border=\"1\" class=\"dataframe\">\n",
       "  <thead>\n",
       "    <tr style=\"text-align: right;\">\n",
       "      <th></th>\n",
       "      <th>Time</th>\n",
       "      <th>Type</th>\n",
       "      <th>OrderID</th>\n",
       "      <th>Size</th>\n",
       "      <th>Price</th>\n",
       "      <th>Direction</th>\n",
       "    </tr>\n",
       "  </thead>\n",
       "  <tbody>\n",
       "    <tr>\n",
       "      <th>0</th>\n",
       "      <td>34200.004241</td>\n",
       "      <td>1</td>\n",
       "      <td>16113575</td>\n",
       "      <td>18</td>\n",
       "      <td>5853300</td>\n",
       "      <td>1</td>\n",
       "    </tr>\n",
       "    <tr>\n",
       "      <th>1</th>\n",
       "      <td>34200.004261</td>\n",
       "      <td>1</td>\n",
       "      <td>16113584</td>\n",
       "      <td>18</td>\n",
       "      <td>5853200</td>\n",
       "      <td>1</td>\n",
       "    </tr>\n",
       "    <tr>\n",
       "      <th>2</th>\n",
       "      <td>34200.004447</td>\n",
       "      <td>1</td>\n",
       "      <td>16113594</td>\n",
       "      <td>18</td>\n",
       "      <td>5853100</td>\n",
       "      <td>1</td>\n",
       "    </tr>\n",
       "    <tr>\n",
       "      <th>3</th>\n",
       "      <td>34200.025552</td>\n",
       "      <td>1</td>\n",
       "      <td>16120456</td>\n",
       "      <td>18</td>\n",
       "      <td>5859100</td>\n",
       "      <td>-1</td>\n",
       "    </tr>\n",
       "    <tr>\n",
       "      <th>4</th>\n",
       "      <td>34200.025580</td>\n",
       "      <td>1</td>\n",
       "      <td>16120480</td>\n",
       "      <td>18</td>\n",
       "      <td>5859200</td>\n",
       "      <td>-1</td>\n",
       "    </tr>\n",
       "  </tbody>\n",
       "</table>\n",
       "</div>"
      ],
      "text/plain": [
       "           Time  Type   OrderID  Size    Price  Direction\n",
       "0  34200.004241     1  16113575    18  5853300          1\n",
       "1  34200.004261     1  16113584    18  5853200          1\n",
       "2  34200.004447     1  16113594    18  5853100          1\n",
       "3  34200.025552     1  16120456    18  5859100         -1\n",
       "4  34200.025580     1  16120480    18  5859200         -1"
      ]
     },
     "execution_count": 22,
     "metadata": {},
     "output_type": "execute_result"
    }
   ],
   "source": [
    "datamessages.head()"
   ]
  },
  {
   "cell_type": "code",
   "execution_count": 23,
   "metadata": {},
   "outputs": [],
   "source": [
    "#Showing the number of entries by direction\n",
    "datamessages['Direction'] = datamessages['Direction'].replace({-1: 'Sell limit order', 1: 'Buy limit order'})\n"
   ]
  },
  {
   "cell_type": "markdown",
   "metadata": {},
   "source": [
    "# Orderbook"
   ]
  },
  {
   "cell_type": "code",
   "execution_count": 24,
   "metadata": {},
   "outputs": [
    {
     "data": {
      "text/plain": [
       "(400391, 40)"
      ]
     },
     "execution_count": 24,
     "metadata": {},
     "output_type": "execute_result"
    }
   ],
   "source": [
    "dataorderbook = pd.read_csv('/Users/constantinwiederin/Documents/IE/Algorithmic Trading/LOBSTER/AAPL_2012-06-21_34200000_57600000_orderbook_10.csv', header=None) \n",
    "dataorderbook.shape"
   ]
  },
  {
   "cell_type": "code",
   "execution_count": 25,
   "metadata": {},
   "outputs": [],
   "source": [
    "dataorderbook.columns = ['Ask Price 1', 'Ask Size 1', 'Bid Price 1', 'Bid Size 1', 'Ask Price 2', 'Ask Size 2', 'Bid Price 2', 'Bid Size 2', 'Ask Price 3', 'Ask Size 3', 'Bid Price 3', 'Bid Size 3', 'Ask Price 4', 'Ask Size 4', 'Bid Price 4', 'Bid Size 4', 'Ask Price 5', 'Ask Size 5', 'Bid Price 5', 'Bid Size 5', 'Ask price 6', 'Ask Size 6', 'Bid Price 6', 'Bid Size 6', 'Ask Price 7', 'Ask Size 7', 'Bid Price 7', 'Bid Size 7', 'Ask Price 8', 'Ask Size 8', 'Bid Price 8', 'Bid Size 8', 'Ask Price 9', 'Ask Size 9', 'Bid Price 9', 'Bid Size 9', 'Ask Price 10', 'Ask Size 10', 'Bid Price 10', 'Bid Size 10']"
   ]
  },
  {
   "cell_type": "code",
   "execution_count": 26,
   "metadata": {},
   "outputs": [
    {
     "data": {
      "text/html": [
       "<div>\n",
       "<style scoped>\n",
       "    .dataframe tbody tr th:only-of-type {\n",
       "        vertical-align: middle;\n",
       "    }\n",
       "\n",
       "    .dataframe tbody tr th {\n",
       "        vertical-align: top;\n",
       "    }\n",
       "\n",
       "    .dataframe thead th {\n",
       "        text-align: right;\n",
       "    }\n",
       "</style>\n",
       "<table border=\"1\" class=\"dataframe\">\n",
       "  <thead>\n",
       "    <tr style=\"text-align: right;\">\n",
       "      <th></th>\n",
       "      <th>Ask Price 1</th>\n",
       "      <th>Ask Size 1</th>\n",
       "      <th>Bid Price 1</th>\n",
       "      <th>Bid Size 1</th>\n",
       "      <th>Ask Price 2</th>\n",
       "      <th>Ask Size 2</th>\n",
       "      <th>Bid Price 2</th>\n",
       "      <th>Bid Size 2</th>\n",
       "      <th>Ask Price 3</th>\n",
       "      <th>Ask Size 3</th>\n",
       "      <th>...</th>\n",
       "      <th>Bid Price 8</th>\n",
       "      <th>Bid Size 8</th>\n",
       "      <th>Ask Price 9</th>\n",
       "      <th>Ask Size 9</th>\n",
       "      <th>Bid Price 9</th>\n",
       "      <th>Bid Size 9</th>\n",
       "      <th>Ask Price 10</th>\n",
       "      <th>Ask Size 10</th>\n",
       "      <th>Bid Price 10</th>\n",
       "      <th>Bid Size 10</th>\n",
       "    </tr>\n",
       "  </thead>\n",
       "  <tbody>\n",
       "    <tr>\n",
       "      <th>0</th>\n",
       "      <td>5859400</td>\n",
       "      <td>200</td>\n",
       "      <td>5853300</td>\n",
       "      <td>18</td>\n",
       "      <td>5859800</td>\n",
       "      <td>200</td>\n",
       "      <td>5853000</td>\n",
       "      <td>150</td>\n",
       "      <td>5861000</td>\n",
       "      <td>200</td>\n",
       "      <td>...</td>\n",
       "      <td>5845300</td>\n",
       "      <td>300</td>\n",
       "      <td>5876500</td>\n",
       "      <td>1160</td>\n",
       "      <td>5843800</td>\n",
       "      <td>200</td>\n",
       "      <td>5879000</td>\n",
       "      <td>500</td>\n",
       "      <td>5842700</td>\n",
       "      <td>300</td>\n",
       "    </tr>\n",
       "    <tr>\n",
       "      <th>1</th>\n",
       "      <td>5859400</td>\n",
       "      <td>200</td>\n",
       "      <td>5853300</td>\n",
       "      <td>18</td>\n",
       "      <td>5859800</td>\n",
       "      <td>200</td>\n",
       "      <td>5853200</td>\n",
       "      <td>18</td>\n",
       "      <td>5861000</td>\n",
       "      <td>200</td>\n",
       "      <td>...</td>\n",
       "      <td>5846500</td>\n",
       "      <td>300</td>\n",
       "      <td>5876500</td>\n",
       "      <td>1160</td>\n",
       "      <td>5845300</td>\n",
       "      <td>300</td>\n",
       "      <td>5879000</td>\n",
       "      <td>500</td>\n",
       "      <td>5843800</td>\n",
       "      <td>200</td>\n",
       "    </tr>\n",
       "    <tr>\n",
       "      <th>2</th>\n",
       "      <td>5859400</td>\n",
       "      <td>200</td>\n",
       "      <td>5853300</td>\n",
       "      <td>18</td>\n",
       "      <td>5859800</td>\n",
       "      <td>200</td>\n",
       "      <td>5853200</td>\n",
       "      <td>18</td>\n",
       "      <td>5861000</td>\n",
       "      <td>200</td>\n",
       "      <td>...</td>\n",
       "      <td>5849300</td>\n",
       "      <td>300</td>\n",
       "      <td>5876500</td>\n",
       "      <td>1160</td>\n",
       "      <td>5846500</td>\n",
       "      <td>300</td>\n",
       "      <td>5879000</td>\n",
       "      <td>500</td>\n",
       "      <td>5845300</td>\n",
       "      <td>300</td>\n",
       "    </tr>\n",
       "    <tr>\n",
       "      <th>3</th>\n",
       "      <td>5859100</td>\n",
       "      <td>18</td>\n",
       "      <td>5853300</td>\n",
       "      <td>18</td>\n",
       "      <td>5859400</td>\n",
       "      <td>200</td>\n",
       "      <td>5853200</td>\n",
       "      <td>18</td>\n",
       "      <td>5859800</td>\n",
       "      <td>200</td>\n",
       "      <td>...</td>\n",
       "      <td>5849300</td>\n",
       "      <td>300</td>\n",
       "      <td>5873900</td>\n",
       "      <td>100</td>\n",
       "      <td>5846500</td>\n",
       "      <td>300</td>\n",
       "      <td>5876500</td>\n",
       "      <td>1160</td>\n",
       "      <td>5845300</td>\n",
       "      <td>300</td>\n",
       "    </tr>\n",
       "    <tr>\n",
       "      <th>4</th>\n",
       "      <td>5859100</td>\n",
       "      <td>18</td>\n",
       "      <td>5853300</td>\n",
       "      <td>18</td>\n",
       "      <td>5859200</td>\n",
       "      <td>18</td>\n",
       "      <td>5853200</td>\n",
       "      <td>18</td>\n",
       "      <td>5859400</td>\n",
       "      <td>200</td>\n",
       "      <td>...</td>\n",
       "      <td>5849300</td>\n",
       "      <td>300</td>\n",
       "      <td>5871000</td>\n",
       "      <td>10</td>\n",
       "      <td>5846500</td>\n",
       "      <td>300</td>\n",
       "      <td>5873900</td>\n",
       "      <td>100</td>\n",
       "      <td>5845300</td>\n",
       "      <td>300</td>\n",
       "    </tr>\n",
       "  </tbody>\n",
       "</table>\n",
       "<p>5 rows × 40 columns</p>\n",
       "</div>"
      ],
      "text/plain": [
       "   Ask Price 1  Ask Size 1  Bid Price 1  Bid Size 1  Ask Price 2  Ask Size 2  \\\n",
       "0      5859400         200      5853300          18      5859800         200   \n",
       "1      5859400         200      5853300          18      5859800         200   \n",
       "2      5859400         200      5853300          18      5859800         200   \n",
       "3      5859100          18      5853300          18      5859400         200   \n",
       "4      5859100          18      5853300          18      5859200          18   \n",
       "\n",
       "   Bid Price 2  Bid Size 2  Ask Price 3  Ask Size 3  ...  Bid Price 8  \\\n",
       "0      5853000         150      5861000         200  ...      5845300   \n",
       "1      5853200          18      5861000         200  ...      5846500   \n",
       "2      5853200          18      5861000         200  ...      5849300   \n",
       "3      5853200          18      5859800         200  ...      5849300   \n",
       "4      5853200          18      5859400         200  ...      5849300   \n",
       "\n",
       "   Bid Size 8  Ask Price 9  Ask Size 9  Bid Price 9  Bid Size 9  Ask Price 10  \\\n",
       "0         300      5876500        1160      5843800         200       5879000   \n",
       "1         300      5876500        1160      5845300         300       5879000   \n",
       "2         300      5876500        1160      5846500         300       5879000   \n",
       "3         300      5873900         100      5846500         300       5876500   \n",
       "4         300      5871000          10      5846500         300       5873900   \n",
       "\n",
       "   Ask Size 10  Bid Price 10  Bid Size 10  \n",
       "0          500       5842700          300  \n",
       "1          500       5843800          200  \n",
       "2          500       5845300          300  \n",
       "3         1160       5845300          300  \n",
       "4          100       5845300          300  \n",
       "\n",
       "[5 rows x 40 columns]"
      ]
     },
     "execution_count": 26,
     "metadata": {},
     "output_type": "execute_result"
    }
   ],
   "source": [
    "dataorderbook.head()"
   ]
  },
  {
   "cell_type": "code",
   "execution_count": 27,
   "metadata": {},
   "outputs": [],
   "source": [
    "dataorderbook['Time'] = datamessages['Time']"
   ]
  },
  {
   "cell_type": "code",
   "execution_count": 28,
   "metadata": {},
   "outputs": [],
   "source": [
    "#merging the two datasets on the time column\n",
    "data = pd.merge(datamessages, dataorderbook, on='Time')"
   ]
  },
  {
   "cell_type": "code",
   "execution_count": 29,
   "metadata": {},
   "outputs": [],
   "source": [
    "#remove type type 5 entries\n",
    "data = data[data['Type'] != 5]"
   ]
  },
  {
   "cell_type": "code",
   "execution_count": 30,
   "metadata": {},
   "outputs": [],
   "source": [
    "data['midprice'] = (data['Ask Price 1'] + data['Bid Price 1']) / 2"
   ]
  },
  {
   "cell_type": "code",
   "execution_count": 31,
   "metadata": {},
   "outputs": [],
   "source": [
    "data['Calc_direction'] = np.where(data['midprice']<data['Price'], 'Buy', 'Sell')"
   ]
  },
  {
   "cell_type": "code",
   "execution_count": 32,
   "metadata": {},
   "outputs": [],
   "source": [
    "#drop the column Direction\n",
    "data.drop('Direction', axis=1, inplace=True)"
   ]
  },
  {
   "cell_type": "code",
   "execution_count": 38,
   "metadata": {},
   "outputs": [
    {
     "data": {
      "text/plain": [
       "array([1, 3, 4, 2])"
      ]
     },
     "execution_count": 38,
     "metadata": {},
     "output_type": "execute_result"
    }
   ],
   "source": [
    "data['Type'].unique()"
   ]
  },
  {
   "cell_type": "code",
   "execution_count": null,
   "metadata": {},
   "outputs": [],
   "source": []
  }
 ],
 "metadata": {
  "kernelspec": {
   "display_name": "base",
   "language": "python",
   "name": "python3"
  },
  "language_info": {
   "codemirror_mode": {
    "name": "ipython",
    "version": 3
   },
   "file_extension": ".py",
   "mimetype": "text/x-python",
   "name": "python",
   "nbconvert_exporter": "python",
   "pygments_lexer": "ipython3",
   "version": "3.11.5"
  }
 },
 "nbformat": 4,
 "nbformat_minor": 2
}
